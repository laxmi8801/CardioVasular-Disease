{
 "cells": [
  {
   "cell_type": "code",
   "execution_count": 1,
   "id": "441f4706",
   "metadata": {},
   "outputs": [],
   "source": [
    "import pandas as pd\n",
    "from sklearn.model_selection import train_test_split"
   ]
  },
  {
   "cell_type": "code",
   "execution_count": 2,
   "id": "5a4c63cd",
   "metadata": {},
   "outputs": [
    {
     "data": {
      "text/html": [
       "<div>\n",
       "<style scoped>\n",
       "    .dataframe tbody tr th:only-of-type {\n",
       "        vertical-align: middle;\n",
       "    }\n",
       "\n",
       "    .dataframe tbody tr th {\n",
       "        vertical-align: top;\n",
       "    }\n",
       "\n",
       "    .dataframe thead th {\n",
       "        text-align: right;\n",
       "    }\n",
       "</style>\n",
       "<table border=\"1\" class=\"dataframe\">\n",
       "  <thead>\n",
       "    <tr style=\"text-align: right;\">\n",
       "      <th></th>\n",
       "      <th>Age</th>\n",
       "      <th>Sex</th>\n",
       "      <th>ChestPainType</th>\n",
       "      <th>RestingBP</th>\n",
       "      <th>Cholesterol</th>\n",
       "      <th>FastingBS</th>\n",
       "      <th>RestingECG</th>\n",
       "      <th>MaxHR</th>\n",
       "      <th>ExerciseAngina</th>\n",
       "      <th>Oldpeak</th>\n",
       "      <th>ST_Slope</th>\n",
       "      <th>HeartDisease</th>\n",
       "    </tr>\n",
       "  </thead>\n",
       "  <tbody>\n",
       "    <tr>\n",
       "      <th>0</th>\n",
       "      <td>40</td>\n",
       "      <td>M</td>\n",
       "      <td>ATA</td>\n",
       "      <td>140</td>\n",
       "      <td>289</td>\n",
       "      <td>0</td>\n",
       "      <td>Normal</td>\n",
       "      <td>172</td>\n",
       "      <td>N</td>\n",
       "      <td>0.0</td>\n",
       "      <td>Up</td>\n",
       "      <td>0</td>\n",
       "    </tr>\n",
       "    <tr>\n",
       "      <th>1</th>\n",
       "      <td>49</td>\n",
       "      <td>F</td>\n",
       "      <td>NAP</td>\n",
       "      <td>160</td>\n",
       "      <td>180</td>\n",
       "      <td>0</td>\n",
       "      <td>Normal</td>\n",
       "      <td>156</td>\n",
       "      <td>N</td>\n",
       "      <td>1.0</td>\n",
       "      <td>Flat</td>\n",
       "      <td>1</td>\n",
       "    </tr>\n",
       "    <tr>\n",
       "      <th>2</th>\n",
       "      <td>37</td>\n",
       "      <td>M</td>\n",
       "      <td>ATA</td>\n",
       "      <td>130</td>\n",
       "      <td>283</td>\n",
       "      <td>0</td>\n",
       "      <td>ST</td>\n",
       "      <td>98</td>\n",
       "      <td>N</td>\n",
       "      <td>0.0</td>\n",
       "      <td>Up</td>\n",
       "      <td>0</td>\n",
       "    </tr>\n",
       "    <tr>\n",
       "      <th>3</th>\n",
       "      <td>48</td>\n",
       "      <td>F</td>\n",
       "      <td>ASY</td>\n",
       "      <td>138</td>\n",
       "      <td>214</td>\n",
       "      <td>0</td>\n",
       "      <td>Normal</td>\n",
       "      <td>108</td>\n",
       "      <td>Y</td>\n",
       "      <td>1.5</td>\n",
       "      <td>Flat</td>\n",
       "      <td>1</td>\n",
       "    </tr>\n",
       "    <tr>\n",
       "      <th>4</th>\n",
       "      <td>54</td>\n",
       "      <td>M</td>\n",
       "      <td>NAP</td>\n",
       "      <td>150</td>\n",
       "      <td>195</td>\n",
       "      <td>0</td>\n",
       "      <td>Normal</td>\n",
       "      <td>122</td>\n",
       "      <td>N</td>\n",
       "      <td>0.0</td>\n",
       "      <td>Up</td>\n",
       "      <td>0</td>\n",
       "    </tr>\n",
       "  </tbody>\n",
       "</table>\n",
       "</div>"
      ],
      "text/plain": [
       "   Age Sex ChestPainType  RestingBP  Cholesterol  FastingBS RestingECG  MaxHR  \\\n",
       "0   40   M           ATA        140          289          0     Normal    172   \n",
       "1   49   F           NAP        160          180          0     Normal    156   \n",
       "2   37   M           ATA        130          283          0         ST     98   \n",
       "3   48   F           ASY        138          214          0     Normal    108   \n",
       "4   54   M           NAP        150          195          0     Normal    122   \n",
       "\n",
       "  ExerciseAngina  Oldpeak ST_Slope  HeartDisease  \n",
       "0              N      0.0       Up             0  \n",
       "1              N      1.0     Flat             1  \n",
       "2              N      0.0       Up             0  \n",
       "3              Y      1.5     Flat             1  \n",
       "4              N      0.0       Up             0  "
      ]
     },
     "execution_count": 2,
     "metadata": {},
     "output_type": "execute_result"
    }
   ],
   "source": [
    "df = pd.read_csv('heart.csv')\n",
    "df.head()"
   ]
  },
  {
   "cell_type": "code",
   "execution_count": 3,
   "id": "2d185b67",
   "metadata": {},
   "outputs": [
    {
     "data": {
      "text/plain": [
       "1    508\n",
       "0    410\n",
       "Name: HeartDisease, dtype: int64"
      ]
     },
     "execution_count": 3,
     "metadata": {},
     "output_type": "execute_result"
    }
   ],
   "source": [
    "df['HeartDisease'].value_counts()"
   ]
  },
  {
   "cell_type": "code",
   "execution_count": 4,
   "id": "73264f7f",
   "metadata": {},
   "outputs": [],
   "source": [
    "df.replace({'Sex':{'M':0,'F':1}},inplace = True)\n",
    "df.replace({'ChestPainType':{'TA':1,'ATA':2,'NAP':3,'ASY':4}},inplace=True)\n",
    "df.replace({'RestingECG':{'Normal':0,'ST':1,'LVH':2}},inplace = True)\n",
    "df.replace({'ExerciseAngina':{'N':0,'Y':1}},inplace = True)\n",
    "df.replace({'ST_Slope':{'Up':1,'Flat':2,'Down':3}},inplace = True)"
   ]
  },
  {
   "cell_type": "code",
   "execution_count": 5,
   "id": "a281eb87",
   "metadata": {},
   "outputs": [
    {
     "data": {
      "text/plain": [
       "((918, 11), (918,))"
      ]
     },
     "execution_count": 5,
     "metadata": {},
     "output_type": "execute_result"
    }
   ],
   "source": [
    "x = df.iloc[:,:11].values\n",
    "y = df['HeartDisease'].values\n",
    "x.shape,y.shape"
   ]
  },
  {
   "cell_type": "code",
   "execution_count": 6,
   "id": "4e10aadc",
   "metadata": {},
   "outputs": [],
   "source": [
    "x_train, x_test, y_train, y_test  = train_test_split(x,y,test_size=0.2)"
   ]
  },
  {
   "cell_type": "code",
   "execution_count": 7,
   "id": "6b1a37c4",
   "metadata": {},
   "outputs": [],
   "source": [
    "from sklearn.naive_bayes import GaussianNB\n",
    "from sklearn.linear_model import LogisticRegression\n",
    "from sklearn.neighbors import KNeighborsClassifier \n",
    "from sklearn.tree import DecisionTreeClassifier\n",
    "from sklearn.ensemble import BaggingClassifier\n",
    "from sklearn.ensemble import RandomForestClassifier\n",
    "from sklearn.ensemble import GradientBoostingClassifier\n",
    "from sklearn.svm import SVC\n",
    "from sklearn.calibration import CalibratedClassifierCV\n",
    "from sklearn.ensemble import AdaBoostClassifier,HistGradientBoostingClassifier,RandomTreesEmbedding "
   ]
  },
  {
   "cell_type": "code",
   "execution_count": 8,
   "id": "e911e3ae",
   "metadata": {},
   "outputs": [],
   "source": [
    "\n",
    "\n",
    "models = []\n",
    "\n",
    "models.append(('SVC', SVC(gamma ='auto', probability = True)))\n",
    "models.append(('Decision Tree',DecisionTreeClassifier()))\n",
    "models.append(('KNeighbors',KNeighborsClassifier()))\n",
    "models.append(('GaussianNB',GaussianNB()))\n",
    "models.append(('Random Forest',RandomForestClassifier()))\n",
    "models.append(('Logistic Regression',LogisticRegression()))\n",
    "models.append(('Bagging Classfier',BaggingClassifier()))\n",
    "models.append(('Gradient Boosting',GradientBoostingClassifier()))\n",
    "models.append(('CalibratedClassifierCV',CalibratedClassifierCV()))\n",
    "models.append(('AdaBoostClassifier',AdaBoostClassifier()))\n",
    "models.append(('HistGradientBoostingClassifier',HistGradientBoostingClassifier()))\n",
    "#models.append(('RandomTreesEmbedding',RandomTreesEmbedding()))\n",
    "              "
   ]
  },
  {
   "cell_type": "code",
   "execution_count": 9,
   "id": "bde379f0",
   "metadata": {},
   "outputs": [
    {
     "name": "stderr",
     "output_type": "stream",
     "text": [
      "C:\\Users\\DELL\\AppData\\Local\\Programs\\Python\\Python310\\lib\\site-packages\\sklearn\\linear_model\\_logistic.py:814: ConvergenceWarning: lbfgs failed to converge (status=1):\n",
      "STOP: TOTAL NO. of ITERATIONS REACHED LIMIT.\n",
      "\n",
      "Increase the number of iterations (max_iter) or scale the data as shown in:\n",
      "    https://scikit-learn.org/stable/modules/preprocessing.html\n",
      "Please also refer to the documentation for alternative solver options:\n",
      "    https://scikit-learn.org/stable/modules/linear_model.html#logistic-regression\n",
      "  n_iter_i = _check_optimize_result(\n",
      "C:\\Users\\DELL\\AppData\\Local\\Programs\\Python\\Python310\\lib\\site-packages\\sklearn\\svm\\_base.py:1206: ConvergenceWarning: Liblinear failed to converge, increase the number of iterations.\n",
      "  warnings.warn(\n",
      "C:\\Users\\DELL\\AppData\\Local\\Programs\\Python\\Python310\\lib\\site-packages\\sklearn\\svm\\_base.py:1206: ConvergenceWarning: Liblinear failed to converge, increase the number of iterations.\n",
      "  warnings.warn(\n",
      "C:\\Users\\DELL\\AppData\\Local\\Programs\\Python\\Python310\\lib\\site-packages\\sklearn\\svm\\_base.py:1206: ConvergenceWarning: Liblinear failed to converge, increase the number of iterations.\n",
      "  warnings.warn(\n",
      "C:\\Users\\DELL\\AppData\\Local\\Programs\\Python\\Python310\\lib\\site-packages\\sklearn\\svm\\_base.py:1206: ConvergenceWarning: Liblinear failed to converge, increase the number of iterations.\n",
      "  warnings.warn(\n",
      "C:\\Users\\DELL\\AppData\\Local\\Programs\\Python\\Python310\\lib\\site-packages\\sklearn\\svm\\_base.py:1206: ConvergenceWarning: Liblinear failed to converge, increase the number of iterations.\n",
      "  warnings.warn(\n"
     ]
    },
    {
     "name": "stdout",
     "output_type": "stream",
     "text": [
      "+--------------------------------+------------+\n",
      "| model                          |   accuracy |\n",
      "+================================+============+\n",
      "| SVC                            |    53.2609 |\n",
      "+--------------------------------+------------+\n",
      "| Decision Tree                  |    82.0652 |\n",
      "+--------------------------------+------------+\n",
      "| KNeighbors                     |    63.0435 |\n",
      "+--------------------------------+------------+\n",
      "| GaussianNB                     |    83.1522 |\n",
      "+--------------------------------+------------+\n",
      "| Random Forest                  |    84.2391 |\n",
      "+--------------------------------+------------+\n",
      "| Logistic Regression            |    85.3261 |\n",
      "+--------------------------------+------------+\n",
      "| Bagging Classfier              |    82.6087 |\n",
      "+--------------------------------+------------+\n",
      "| Gradient Boosting              |    86.413  |\n",
      "+--------------------------------+------------+\n",
      "| CalibratedClassifierCV         |    84.7826 |\n",
      "+--------------------------------+------------+\n",
      "| AdaBoostClassifier             |    84.7826 |\n",
      "+--------------------------------+------------+\n",
      "| HistGradientBoostingClassifier |    85.3261 |\n",
      "+--------------------------------+------------+\n"
     ]
    }
   ],
   "source": [
    "from sklearn.metrics import accuracy_score\n",
    "from tabulate import tabulate\n",
    "data = []\n",
    "for m in models:\n",
    "    model = m[1]\n",
    "    model.fit(x_train,y_train)\n",
    "    pred = model.predict(x_test)\n",
    "    acc = accuracy_score(y_test,pred)*100\n",
    "    data.append([m[0],acc])\n",
    "\n",
    "head = [\"model\",\"accuracy\"]\n",
    " \n",
    "\n",
    "print(tabulate(data, headers=head, tablefmt=\"grid\"))"
   ]
  },
  {
   "cell_type": "code",
   "execution_count": 16,
   "id": "07094d24",
   "metadata": {},
   "outputs": [],
   "source": [
    "x_new = df[['ST_Slope','ChestPainType','Cholesterol','ExerciseAngina','Oldpeak','Age']].values"
   ]
  },
  {
   "cell_type": "code",
   "execution_count": 17,
   "id": "66b8f272",
   "metadata": {},
   "outputs": [],
   "source": [
    "X1_train, X1_test, y1_train, y1_test  = train_test_split(x_new,y,test_size=0.2)"
   ]
  },
  {
   "cell_type": "code",
   "execution_count": 18,
   "id": "2a3a58f1",
   "metadata": {},
   "outputs": [
    {
     "name": "stderr",
     "output_type": "stream",
     "text": [
      "C:\\Users\\DELL\\AppData\\Local\\Programs\\Python\\Python310\\lib\\site-packages\\sklearn\\svm\\_base.py:1206: ConvergenceWarning: Liblinear failed to converge, increase the number of iterations.\n",
      "  warnings.warn(\n",
      "C:\\Users\\DELL\\AppData\\Local\\Programs\\Python\\Python310\\lib\\site-packages\\sklearn\\svm\\_base.py:1206: ConvergenceWarning: Liblinear failed to converge, increase the number of iterations.\n",
      "  warnings.warn(\n",
      "C:\\Users\\DELL\\AppData\\Local\\Programs\\Python\\Python310\\lib\\site-packages\\sklearn\\svm\\_base.py:1206: ConvergenceWarning: Liblinear failed to converge, increase the number of iterations.\n",
      "  warnings.warn(\n",
      "C:\\Users\\DELL\\AppData\\Local\\Programs\\Python\\Python310\\lib\\site-packages\\sklearn\\svm\\_base.py:1206: ConvergenceWarning: Liblinear failed to converge, increase the number of iterations.\n",
      "  warnings.warn(\n",
      "C:\\Users\\DELL\\AppData\\Local\\Programs\\Python\\Python310\\lib\\site-packages\\sklearn\\svm\\_base.py:1206: ConvergenceWarning: Liblinear failed to converge, increase the number of iterations.\n",
      "  warnings.warn(\n"
     ]
    },
    {
     "name": "stdout",
     "output_type": "stream",
     "text": [
      "+--------------------------------+----------------+\n",
      "| model                          |   new_accuracy |\n",
      "+================================+================+\n",
      "| SVC                            |        65.7609 |\n",
      "+--------------------------------+----------------+\n",
      "| Decision Tree                  |        80.9783 |\n",
      "+--------------------------------+----------------+\n",
      "| KNeighbors                     |        67.9348 |\n",
      "+--------------------------------+----------------+\n",
      "| GaussianNB                     |        85.8696 |\n",
      "+--------------------------------+----------------+\n",
      "| Random Forest                  |        85.8696 |\n",
      "+--------------------------------+----------------+\n",
      "| Logistic Regression            |        84.7826 |\n",
      "+--------------------------------+----------------+\n",
      "| Bagging Classfier              |        84.7826 |\n",
      "+--------------------------------+----------------+\n",
      "| Gradient Boosting              |        86.413  |\n",
      "+--------------------------------+----------------+\n",
      "| CalibratedClassifierCV         |        80.9783 |\n",
      "+--------------------------------+----------------+\n",
      "| AdaBoostClassifier             |        84.7826 |\n",
      "+--------------------------------+----------------+\n",
      "| HistGradientBoostingClassifier |        84.2391 |\n",
      "+--------------------------------+----------------+\n"
     ]
    }
   ],
   "source": [
    "\n",
    "data_new = []\n",
    "for m in models:\n",
    "    model = m[1]\n",
    "    model.fit(X1_train,y1_train)\n",
    "    pred = model.predict(X1_test)\n",
    "    acc1 = accuracy_score(y1_test,pred)*100\n",
    "    data_new.append([m[0],acc1])\n",
    "\n",
    "head = [\"model\",\"new_accuracy\"]\n",
    " \n",
    "\n",
    "print(tabulate(data_new, headers=head, tablefmt=\"grid\"))"
   ]
  },
  {
   "cell_type": "code",
   "execution_count": null,
   "id": "a9292aa1",
   "metadata": {},
   "outputs": [],
   "source": []
  }
 ],
 "metadata": {
  "kernelspec": {
   "display_name": "Python 3 (ipykernel)",
   "language": "python",
   "name": "python3"
  },
  "language_info": {
   "codemirror_mode": {
    "name": "ipython",
    "version": 3
   },
   "file_extension": ".py",
   "mimetype": "text/x-python",
   "name": "python",
   "nbconvert_exporter": "python",
   "pygments_lexer": "ipython3",
   "version": "3.10.2"
  }
 },
 "nbformat": 4,
 "nbformat_minor": 5
}
