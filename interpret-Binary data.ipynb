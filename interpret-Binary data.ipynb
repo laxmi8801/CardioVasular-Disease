{
 "cells": [
  {
   "cell_type": "markdown",
   "id": "134f25b6",
   "metadata": {},
   "source": [
    "# Importing libraries"
   ]
  },
  {
   "cell_type": "code",
   "execution_count": 1,
   "id": "c2a0b923",
   "metadata": {},
   "outputs": [],
   "source": [
    "import pandas as pd\n",
    "from interpret.glassbox import (LogisticRegression,ClassificationTree,ExplainableBoostingClassifier,ebm,decisiontree,RegressionTree)\n",
    "from interpret import show\n",
    "from sklearn.metrics import f1_score,accuracy_score\n",
    "from sklearn.model_selection import train_test_split\n",
    "from interpret.blackbox import LimeTabular\n",
    "import dice_ml\n"
   ]
  },
  {
   "cell_type": "markdown",
   "id": "24a669cf",
   "metadata": {},
   "source": [
    "### reading csv files"
   ]
  },
  {
   "cell_type": "code",
   "execution_count": 2,
   "id": "e072e673",
   "metadata": {},
   "outputs": [
    {
     "data": {
      "text/html": [
       "<div>\n",
       "<style scoped>\n",
       "    .dataframe tbody tr th:only-of-type {\n",
       "        vertical-align: middle;\n",
       "    }\n",
       "\n",
       "    .dataframe tbody tr th {\n",
       "        vertical-align: top;\n",
       "    }\n",
       "\n",
       "    .dataframe thead th {\n",
       "        text-align: right;\n",
       "    }\n",
       "</style>\n",
       "<table border=\"1\" class=\"dataframe\">\n",
       "  <thead>\n",
       "    <tr style=\"text-align: right;\">\n",
       "      <th></th>\n",
       "      <th>Age</th>\n",
       "      <th>Sex</th>\n",
       "      <th>ChestPainType</th>\n",
       "      <th>RestingBP</th>\n",
       "      <th>Cholesterol</th>\n",
       "      <th>FastingBS</th>\n",
       "      <th>RestingECG</th>\n",
       "      <th>MaxHR</th>\n",
       "      <th>ExerciseAngina</th>\n",
       "      <th>Oldpeak</th>\n",
       "      <th>ST_Slope</th>\n",
       "      <th>HeartDisease</th>\n",
       "    </tr>\n",
       "  </thead>\n",
       "  <tbody>\n",
       "    <tr>\n",
       "      <th>0</th>\n",
       "      <td>40</td>\n",
       "      <td>M</td>\n",
       "      <td>ATA</td>\n",
       "      <td>140</td>\n",
       "      <td>289</td>\n",
       "      <td>0</td>\n",
       "      <td>Normal</td>\n",
       "      <td>172</td>\n",
       "      <td>N</td>\n",
       "      <td>0.0</td>\n",
       "      <td>Up</td>\n",
       "      <td>0</td>\n",
       "    </tr>\n",
       "    <tr>\n",
       "      <th>1</th>\n",
       "      <td>49</td>\n",
       "      <td>F</td>\n",
       "      <td>NAP</td>\n",
       "      <td>160</td>\n",
       "      <td>180</td>\n",
       "      <td>0</td>\n",
       "      <td>Normal</td>\n",
       "      <td>156</td>\n",
       "      <td>N</td>\n",
       "      <td>1.0</td>\n",
       "      <td>Flat</td>\n",
       "      <td>1</td>\n",
       "    </tr>\n",
       "    <tr>\n",
       "      <th>2</th>\n",
       "      <td>37</td>\n",
       "      <td>M</td>\n",
       "      <td>ATA</td>\n",
       "      <td>130</td>\n",
       "      <td>283</td>\n",
       "      <td>0</td>\n",
       "      <td>ST</td>\n",
       "      <td>98</td>\n",
       "      <td>N</td>\n",
       "      <td>0.0</td>\n",
       "      <td>Up</td>\n",
       "      <td>0</td>\n",
       "    </tr>\n",
       "    <tr>\n",
       "      <th>3</th>\n",
       "      <td>48</td>\n",
       "      <td>F</td>\n",
       "      <td>ASY</td>\n",
       "      <td>138</td>\n",
       "      <td>214</td>\n",
       "      <td>0</td>\n",
       "      <td>Normal</td>\n",
       "      <td>108</td>\n",
       "      <td>Y</td>\n",
       "      <td>1.5</td>\n",
       "      <td>Flat</td>\n",
       "      <td>1</td>\n",
       "    </tr>\n",
       "    <tr>\n",
       "      <th>4</th>\n",
       "      <td>54</td>\n",
       "      <td>M</td>\n",
       "      <td>NAP</td>\n",
       "      <td>150</td>\n",
       "      <td>195</td>\n",
       "      <td>0</td>\n",
       "      <td>Normal</td>\n",
       "      <td>122</td>\n",
       "      <td>N</td>\n",
       "      <td>0.0</td>\n",
       "      <td>Up</td>\n",
       "      <td>0</td>\n",
       "    </tr>\n",
       "  </tbody>\n",
       "</table>\n",
       "</div>"
      ],
      "text/plain": [
       "   Age Sex ChestPainType  RestingBP  Cholesterol  FastingBS RestingECG  MaxHR  \\\n",
       "0   40   M           ATA        140          289          0     Normal    172   \n",
       "1   49   F           NAP        160          180          0     Normal    156   \n",
       "2   37   M           ATA        130          283          0         ST     98   \n",
       "3   48   F           ASY        138          214          0     Normal    108   \n",
       "4   54   M           NAP        150          195          0     Normal    122   \n",
       "\n",
       "  ExerciseAngina  Oldpeak ST_Slope  HeartDisease  \n",
       "0              N      0.0       Up             0  \n",
       "1              N      1.0     Flat             1  \n",
       "2              N      0.0       Up             0  \n",
       "3              Y      1.5     Flat             1  \n",
       "4              N      0.0       Up             0  "
      ]
     },
     "execution_count": 2,
     "metadata": {},
     "output_type": "execute_result"
    }
   ],
   "source": [
    "df = pd.read_csv('heart.csv')\n",
    "df.head()"
   ]
  },
  {
   "cell_type": "code",
   "execution_count": 3,
   "id": "1110c678",
   "metadata": {},
   "outputs": [
    {
     "name": "stdout",
     "output_type": "stream",
     "text": [
      "<class 'pandas.core.frame.DataFrame'>\n",
      "RangeIndex: 918 entries, 0 to 917\n",
      "Data columns (total 12 columns):\n",
      " #   Column          Non-Null Count  Dtype  \n",
      "---  ------          --------------  -----  \n",
      " 0   Age             918 non-null    int64  \n",
      " 1   Sex             918 non-null    object \n",
      " 2   ChestPainType   918 non-null    object \n",
      " 3   RestingBP       918 non-null    int64  \n",
      " 4   Cholesterol     918 non-null    int64  \n",
      " 5   FastingBS       918 non-null    int64  \n",
      " 6   RestingECG      918 non-null    object \n",
      " 7   MaxHR           918 non-null    int64  \n",
      " 8   ExerciseAngina  918 non-null    object \n",
      " 9   Oldpeak         918 non-null    float64\n",
      " 10  ST_Slope        918 non-null    object \n",
      " 11  HeartDisease    918 non-null    int64  \n",
      "dtypes: float64(1), int64(6), object(5)\n",
      "memory usage: 86.2+ KB\n"
     ]
    }
   ],
   "source": [
    "df.info()"
   ]
  },
  {
   "cell_type": "markdown",
   "id": "0a8ccfd2",
   "metadata": {},
   "source": [
    "### encoding of data  - changing object data types to int for data preprocessing"
   ]
  },
  {
   "cell_type": "code",
   "execution_count": 4,
   "id": "d75b23a6",
   "metadata": {},
   "outputs": [],
   "source": [
    "\n",
    "df.replace({'Sex':{'M':0,'F':1}},inplace = True)\n",
    "df.replace({'ChestPainType':{'TA':1,'ATA':2,'NAP':3,'ASY':4}},inplace=True)\n",
    "df.replace({'RestingECG':{'Normal':0,'ST':1,'LVH':2}},inplace = True)\n",
    "df.replace({'ExerciseAngina':{'N':0,'Y':1}},inplace = True)\n",
    "df.replace({'ST_Slope':{'Up':1,'Flat':2,'Down':3}},inplace = True)"
   ]
  },
  {
   "cell_type": "markdown",
   "id": "992fa32e",
   "metadata": {},
   "source": [
    "### splitting and training dataset"
   ]
  },
  {
   "cell_type": "code",
   "execution_count": 5,
   "id": "77e89d66",
   "metadata": {},
   "outputs": [
    {
     "data": {
      "text/plain": [
       "((918, 11), (918,))"
      ]
     },
     "execution_count": 5,
     "metadata": {},
     "output_type": "execute_result"
    }
   ],
   "source": [
    "\n",
    "x = df.iloc[:,:11].values\n",
    "y = df['HeartDisease'].values\n",
    "x.shape,y.shape"
   ]
  },
  {
   "cell_type": "code",
   "execution_count": 6,
   "id": "f2dc56e7",
   "metadata": {},
   "outputs": [],
   "source": [
    "X_train, X_test, y_train, y_test  = train_test_split(x,y,test_size=0.2)"
   ]
  },
  {
   "cell_type": "markdown",
   "id": "2fe8daf8",
   "metadata": {},
   "source": [
    "## using Logistic Regression interpret ml library "
   ]
  },
  {
   "cell_type": "markdown",
   "id": "3e70caaa",
   "metadata": {},
   "source": [
    "LogisticRegression take tranind data as input and generate explanations for locala and global test input"
   ]
  },
  {
   "cell_type": "code",
   "execution_count": 7,
   "id": "c56b83ea",
   "metadata": {},
   "outputs": [
    {
     "name": "stdout",
     "output_type": "stream",
     "text": [
      "Training finished.\n"
     ]
    }
   ],
   "source": [
    "#training model for given datapoints\n",
    "lr = LogisticRegression(random_state=2021, feature_names=df.iloc[:,:11].columns, penalty='l1', solver='liblinear')\n",
    "lr.fit(X_train, y_train)\n",
    "print(\"Training finished.\")"
   ]
  },
  {
   "cell_type": "code",
   "execution_count": 8,
   "id": "b79e4944",
   "metadata": {},
   "outputs": [
    {
     "name": "stdout",
     "output_type": "stream",
     "text": [
      "F1 Score 0.8626660695626213\n",
      "Accuracy 86.41304347826086\n"
     ]
    }
   ],
   "source": [
    "#predicting results\n",
    "y_pred = lr.predict(X_test)\n",
    "print(f\"F1 Score {f1_score(y_test, y_pred, average='macro')}\")\n",
    "print(f\"Accuracy {accuracy_score(y_test, y_pred)*100}\")"
   ]
  },
  {
   "cell_type": "markdown",
   "id": "fc79f1bd",
   "metadata": {},
   "source": [
    "explain_local shows explanations for every entry in test dataset \n",
    "It explains how particular feature impacts the predcited output\n",
    "measure of impact of features on individual data points"
   ]
  },
  {
   "cell_type": "code",
   "execution_count": 9,
   "id": "78d83c73",
   "metadata": {},
   "outputs": [
    {
     "data": {
      "text/html": [
       "<!-- http://127.0.0.1:7001/2237047232576/ -->\n",
       "<iframe src=\"http://127.0.0.1:7001/2237047232576/\" width=100% height=800 frameBorder=\"0\"></iframe>"
      ]
     },
     "metadata": {},
     "output_type": "display_data"
    }
   ],
   "source": [
    "#generating explanations\n",
    "'''explain_local give explaination for every data point i.e.\n",
    "gives interscept show which parameter affect the dataset ans how (positively or negatively)'''\n",
    "lr_local = lr.explain_local(X_test, y_test, name='Logistic Regression')\n",
    "show(lr_local)"
   ]
  },
  {
   "cell_type": "markdown",
   "id": "794995af",
   "metadata": {},
   "source": [
    "explain_global show the bigger picture. It represent the overall impact of individual feature on entire dataset"
   ]
  },
  {
   "cell_type": "code",
   "execution_count": 10,
   "id": "b8f4b6fc",
   "metadata": {
    "scrolled": false
   },
   "outputs": [
    {
     "data": {
      "text/html": [
       "<!-- http://127.0.0.1:7001/2237058311952/ -->\n",
       "<iframe src=\"http://127.0.0.1:7001/2237058311952/\" width=100% height=800 frameBorder=\"0\"></iframe>"
      ]
     },
     "metadata": {},
     "output_type": "display_data"
    }
   ],
   "source": [
    "lr_global = lr.explain_global(name='Logistic Regression')\n",
    "show(lr_global)"
   ]
  },
  {
   "cell_type": "markdown",
   "id": "8b834c20",
   "metadata": {},
   "source": [
    "## using classification tree"
   ]
  },
  {
   "cell_type": "code",
   "execution_count": 11,
   "id": "c2b10030",
   "metadata": {},
   "outputs": [
    {
     "name": "stdout",
     "output_type": "stream",
     "text": [
      "Training finished.\n",
      "F1 Score 0.8638045891931903\n",
      "Accuracy 0.8641304347826086\n"
     ]
    }
   ],
   "source": [
    "tree = ClassificationTree()\n",
    "tree.fit(X_train, y_train)\n",
    "print(\"Training finished.\")\n",
    "y_pred = tree.predict(X_test)\n",
    "print(f\"F1 Score {f1_score(y_test, y_pred, average='macro')}\")\n",
    "print(f\"Accuracy {accuracy_score(y_test, y_pred)}\")"
   ]
  },
  {
   "cell_type": "code",
   "execution_count": 12,
   "id": "bad60585",
   "metadata": {
    "scrolled": false
   },
   "outputs": [
    {
     "data": {
      "text/html": [
       "<!-- http://127.0.0.1:7001/2237059799008/ -->\n",
       "<iframe src=\"http://127.0.0.1:7001/2237059799008/\" width=100% height=800 frameBorder=\"0\"></iframe>"
      ]
     },
     "metadata": {},
     "output_type": "display_data"
    }
   ],
   "source": [
    "tree_local = tree.explain_local(X_test[:100], y_test[:100], name='Tree')\n",
    "show(tree_local)"
   ]
  },
  {
   "cell_type": "markdown",
   "id": "1fe6865f",
   "metadata": {},
   "source": [
    "## using ExplainableBoostingClassifier"
   ]
  },
  {
   "cell_type": "code",
   "execution_count": 13,
   "id": "793bfabd",
   "metadata": {},
   "outputs": [
    {
     "name": "stdout",
     "output_type": "stream",
     "text": [
      "Training finished.\n",
      "F1 Score 0.8900047824007653\n",
      "Accuracy 0.8913043478260869*100\n"
     ]
    }
   ],
   "source": [
    "ebm = ExplainableBoostingClassifier(random_state=2021)\n",
    "ebm.fit(X_train, y_train) \n",
    "print(\"Training finished.\")\n",
    "y_pred = ebm.predict(X_test)\n",
    "print(f\"F1 Score {f1_score(y_test, y_pred, average='macro')}\")\n",
    "print(f\"Accuracy {accuracy_score(y_test, y_pred)}*100\")"
   ]
  },
  {
   "cell_type": "code",
   "execution_count": 14,
   "id": "593de084",
   "metadata": {},
   "outputs": [
    {
     "data": {
      "text/html": [
       "<!-- http://127.0.0.1:7001/2237060180976/ -->\n",
       "<iframe src=\"http://127.0.0.1:7001/2237060180976/\" width=100% height=800 frameBorder=\"0\"></iframe>"
      ]
     },
     "metadata": {},
     "output_type": "display_data"
    }
   ],
   "source": [
    "ebm_local = ebm.explain_local(X_test[:100], y_test[:100], name='EBM')\n",
    "show(ebm_local)"
   ]
  },
  {
   "cell_type": "code",
   "execution_count": 15,
   "id": "deeeeada",
   "metadata": {
    "scrolled": false
   },
   "outputs": [
    {
     "data": {
      "text/html": [
       "<!-- http://127.0.0.1:7001/2237078038384/ -->\n",
       "<iframe src=\"http://127.0.0.1:7001/2237078038384/\" width=100% height=800 frameBorder=\"0\"></iframe>"
      ]
     },
     "metadata": {},
     "output_type": "display_data"
    }
   ],
   "source": [
    "ebm_global = ebm.explain_global(name='EBM')\n",
    "show(ebm_global)"
   ]
  },
  {
   "cell_type": "markdown",
   "id": "2f1bb60a",
   "metadata": {},
   "source": [
    "# LIME"
   ]
  },
  {
   "cell_type": "code",
   "execution_count": 16,
   "id": "5abcab09",
   "metadata": {},
   "outputs": [],
   "source": [
    "from sklearn.ensemble import RandomForestClassifier"
   ]
  },
  {
   "cell_type": "markdown",
   "id": "6aa3c383",
   "metadata": {},
   "source": [
    " Local  Interpretable Model-agnostic Explanations generates local explanations "
   ]
  },
  {
   "cell_type": "code",
   "execution_count": 19,
   "id": "f4b3239f",
   "metadata": {},
   "outputs": [
    {
     "data": {
      "text/plain": [
       "array(['Age', 'Sex', 'ChestPainType', 'RestingBP', 'Cholesterol',\n",
       "       'FastingBS', 'RestingECG', 'MaxHR', 'ExerciseAngina', 'Oldpeak',\n",
       "       'ST_Slope'], dtype=object)"
      ]
     },
     "execution_count": 19,
     "metadata": {},
     "output_type": "execute_result"
    }
   ],
   "source": [
    "features  = df.iloc[:,:11].columns.values\n",
    "features"
   ]
  },
  {
   "cell_type": "code",
   "execution_count": 43,
   "id": "7ca6a28c",
   "metadata": {},
   "outputs": [],
   "source": [
    "from interpret.blackbox import LimeTabular"
   ]
  },
  {
   "cell_type": "code",
   "execution_count": 48,
   "id": "7d5a955a",
   "metadata": {},
   "outputs": [
    {
     "name": "stdout",
     "output_type": "stream",
     "text": [
      "F1 Score 0.9012286770845759\n",
      "Accuracy 0.9021739130434783\n"
     ]
    }
   ],
   "source": [
    "rf = RandomForestClassifier()\n",
    "rf.fit(X_train, y_train)\n",
    "y_pred = rf.predict(X_test)\n",
    "print(f\"F1 Score {f1_score(y_test, y_pred, average='macro')}\")\n",
    "print(f\"Accuracy {accuracy_score(y_test, y_pred)}\")"
   ]
  },
  {
   "cell_type": "code",
   "execution_count": 50,
   "id": "ed191a79",
   "metadata": {},
   "outputs": [],
   "source": [
    "lime = LimeTabular(predict_fn=rf.predict_proba, \n",
    "                   data=X_train, \n",
    "                   random_state=1)"
   ]
  },
  {
   "cell_type": "code",
   "execution_count": null,
   "id": "e7a74532",
   "metadata": {},
   "outputs": [],
   "source": [
    "lime_local = lime.explain_local(X_test[-20:], \n",
    "                                y_test[-20:], \n",
    "                                name='LIME')\n",
    "\n",
    "show(lime_local)"
   ]
  },
  {
   "cell_type": "markdown",
   "id": "3b98a10a",
   "metadata": {},
   "source": [
    "# SHAP"
   ]
  },
  {
   "cell_type": "markdown",
   "id": "2f376b44",
   "metadata": {},
   "source": [
    "shap shows contribution of every feature in prediction"
   ]
  },
  {
   "cell_type": "code",
   "execution_count": null,
   "id": "4860c861",
   "metadata": {},
   "outputs": [],
   "source": [
    "import shap"
   ]
  },
  {
   "cell_type": "code",
   "execution_count": null,
   "id": "aa91a576",
   "metadata": {},
   "outputs": [],
   "source": [
    "explainer = shap.TreeExplainer(rf)\n",
    "# Calculate shapley values for test data\n",
    "start_index = 1\n",
    "end_index = 2\n",
    "shap_values = explainer.shap_values(X_test[start_index:end_index])\n",
    "X_test[start_index:end_index]"
   ]
  },
  {
   "cell_type": "code",
   "execution_count": null,
   "id": "dc241486",
   "metadata": {},
   "outputs": [],
   "source": [
    "print(shap_values[0].shape)\n",
    "shap_values"
   ]
  },
  {
   "cell_type": "code",
   "execution_count": null,
   "id": "a5b9e89f",
   "metadata": {},
   "outputs": [],
   "source": [
    "shap.initjs()\n",
    "# Force plot\n",
    "prediction = rf.predict(X_test[start_index:end_index])[0]\n",
    "print(f\"The RF predicted: {prediction}\")\n",
    "shap.force_plot(explainer.expected_value[1],\n",
    "                shap_values[1],\n",
    "                X_test[start_index:end_index],feature_names=df.iloc[:,:11].columns) # for values"
   ]
  },
  {
   "cell_type": "code",
   "execution_count": 29,
   "id": "e6cbbda8",
   "metadata": {},
   "outputs": [
    {
     "ename": "NameError",
     "evalue": "name 'shap' is not defined",
     "output_type": "error",
     "traceback": [
      "\u001b[1;31m---------------------------------------------------------------------------\u001b[0m",
      "\u001b[1;31mNameError\u001b[0m                                 Traceback (most recent call last)",
      "Input \u001b[1;32mIn [29]\u001b[0m, in \u001b[0;36m<cell line: 1>\u001b[1;34m()\u001b[0m\n\u001b[1;32m----> 1\u001b[0m \u001b[43mshap\u001b[49m\u001b[38;5;241m.\u001b[39msummary_plot(shap_values, X_test,feature_names\u001b[38;5;241m=\u001b[39mdf\u001b[38;5;241m.\u001b[39miloc[:,:\u001b[38;5;241m11\u001b[39m]\u001b[38;5;241m.\u001b[39mcolumns)\n",
      "\u001b[1;31mNameError\u001b[0m: name 'shap' is not defined"
     ]
    }
   ],
   "source": [
    "shap.summary_plot(shap_values, X_test,feature_names=df.iloc[:,:11].columns)"
   ]
  },
  {
   "cell_type": "markdown",
   "id": "5db6a408",
   "metadata": {},
   "source": [
    "# Redefining model"
   ]
  },
  {
   "cell_type": "code",
   "execution_count": 30,
   "id": "8d08e99f",
   "metadata": {},
   "outputs": [
    {
     "data": {
      "text/plain": [
       "Index(['Age', 'Sex', 'ChestPainType', 'RestingBP', 'Cholesterol', 'FastingBS',\n",
       "       'RestingECG', 'MaxHR', 'ExerciseAngina', 'Oldpeak', 'ST_Slope'],\n",
       "      dtype='object')"
      ]
     },
     "execution_count": 30,
     "metadata": {},
     "output_type": "execute_result"
    }
   ],
   "source": [
    "df.iloc[:,:11].columns"
   ]
  },
  {
   "cell_type": "code",
   "execution_count": 31,
   "id": "30ea1035",
   "metadata": {},
   "outputs": [],
   "source": [
    "x_new = df[['ST_Slope','ChestPainType','Cholesterol','ExerciseAngina','Oldpeak','Age']].values"
   ]
  },
  {
   "cell_type": "code",
   "execution_count": 32,
   "id": "169eb07b",
   "metadata": {},
   "outputs": [],
   "source": [
    "X1_train, X1_test, y1_train, y1_test  = train_test_split(x_new,y,test_size=0.2)"
   ]
  },
  {
   "cell_type": "code",
   "execution_count": 33,
   "id": "1af6f591",
   "metadata": {},
   "outputs": [
    {
     "name": "stdout",
     "output_type": "stream",
     "text": [
      "F1 Score 0.8255717502073705\n",
      "Accuracy 82.6086956521739\n",
      "Accuracy old 89.67391304347827\n"
     ]
    }
   ],
   "source": [
    "rf1 = RandomForestClassifier()\n",
    "rf1.fit(X1_train, y1_train)\n",
    "y1_pred = rf1.predict(X1_test)\n",
    "print(f\"F1 Score {f1_score(y1_test, y1_pred, average='macro')}\")\n",
    "print(f\"Accuracy {accuracy_score(y1_test, y1_pred)*100}\")\n",
    "print(f\"Accuracy old {accuracy_score(y_test,y_pred)*100}\")"
   ]
  },
  {
   "cell_type": "code",
   "execution_count": 34,
   "id": "d28a4a5b",
   "metadata": {},
   "outputs": [],
   "source": [
    "data_dice = dice_ml.Data(dataframe=df, \n",
    "                         # For perturbation strategy\n",
    "                         continuous_features=['Age','RestingBP','Cholesterol','FastingBS','MaxHR','Oldpeak'], \n",
    "                         outcome_name='HeartDisease')"
   ]
  },
  {
   "cell_type": "code",
   "execution_count": 35,
   "id": "f4e412b5",
   "metadata": {},
   "outputs": [],
   "source": [
    "rf_dice = dice_ml.Model(model=rf, \n",
    "                        backend=\"sklearn\")\n",
    "explainer = dice_ml.Dice(data_dice, \n",
    "                         rf_dice, \n",
    "                         method=\"random\")"
   ]
  },
  {
   "cell_type": "code",
   "execution_count": 36,
   "id": "b0ca8132",
   "metadata": {},
   "outputs": [],
   "source": [
    "import numpy as np"
   ]
  },
  {
   "cell_type": "code",
   "execution_count": 37,
   "id": "5531da39",
   "metadata": {},
   "outputs": [],
   "source": [
    "\n",
    "# input_datapoint = X_test[0:1]\n",
    "# features_to_vary=['RestingBP','Cholesterol','FastingBS']\n",
    "# permitted_range={'RestingBP':[70,150],\n",
    "#                  'Cholesterol':[40,200],\n",
    "#                  'FastingBS':[50,2500]}\n",
    "# columns = ['Age', 'ChestPainType', 'RestingBP', 'Cholesterol', 'FastingBS','RestingECG', 'MaxHR', 'ExerciseAngina', 'Oldpeak', 'ST_Slope']\n",
    "# df = pd.DataFrame(data = input_datapoint,columns=columns)\n",
    "\n",
    "# cf = explainer.generate_counterfactuals(df, \n",
    "#                                   total_CFs=3, \n",
    "#                                   desired_class=\"opposite\",\n",
    "#                                   permitted_range=permitted_range,\n",
    "#                                   features_to_vary=features_to_vary\n",
    "#                                 )"
   ]
  },
  {
   "cell_type": "code",
   "execution_count": 38,
   "id": "b0118bc6",
   "metadata": {},
   "outputs": [],
   "source": [
    "# cf.visualize_as_dataframe(show_only_changes=True)"
   ]
  },
  {
   "cell_type": "code",
   "execution_count": null,
   "id": "95f9cd45",
   "metadata": {},
   "outputs": [],
   "source": []
  }
 ],
 "metadata": {
  "kernelspec": {
   "display_name": "Python 3 (ipykernel)",
   "language": "python",
   "name": "python3"
  },
  "language_info": {
   "codemirror_mode": {
    "name": "ipython",
    "version": 3
   },
   "file_extension": ".py",
   "mimetype": "text/x-python",
   "name": "python",
   "nbconvert_exporter": "python",
   "pygments_lexer": "ipython3",
   "version": "3.10.2"
  }
 },
 "nbformat": 4,
 "nbformat_minor": 5
}
